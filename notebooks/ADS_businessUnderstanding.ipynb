{
 "cells": [
  {
   "cell_type": "markdown",
   "id": "cfef4e4a",
   "metadata": {},
   "source": [
    "![CRISP_DM](../reports/figures/CRISP_DM.png)"
   ]
  },
  {
   "cell_type": "markdown",
   "id": "47d10a58",
   "metadata": {},
   "source": [
    "# Business Understanding"
   ]
  },
  {
   "cell_type": "markdown",
   "id": "4f59156e",
   "metadata": {},
   "source": [
    "We would like to track corona virus spread across countries and with personal local information.\n",
    "\n",
    "The general information is not so relevant for me. \n",
    "I would like to have a deep dive local development of the spread"
   ]
  },
  {
   "cell_type": "code",
   "execution_count": null,
   "id": "37e05940",
   "metadata": {},
   "outputs": [],
   "source": []
  }
 ],
 "metadata": {
  "kernelspec": {
   "display_name": "Python 3",
   "language": "python",
   "name": "python3"
  },
  "language_info": {
   "codemirror_mode": {
    "name": "ipython",
    "version": 3
   },
   "file_extension": ".py",
   "mimetype": "text/x-python",
   "name": "python",
   "nbconvert_exporter": "python",
   "pygments_lexer": "ipython3",
   "version": "3.8.8"
  }
 },
 "nbformat": 4,
 "nbformat_minor": 5
}
